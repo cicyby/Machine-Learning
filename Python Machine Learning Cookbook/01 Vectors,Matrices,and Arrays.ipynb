{
 "cells": [
  {
   "cell_type": "markdown",
   "metadata": {},
   "source": [
    "# Creating a vector \n",
    "you need to create a vector\n",
    "\n",
    "use numpy to create a one-dimension array"
   ]
  },
  {
   "cell_type": "code",
   "execution_count": 20,
   "metadata": {},
   "outputs": [
    {
     "name": "stdout",
     "output_type": "stream",
     "text": [
      "[1 2 3]\n",
      "[[1]\n",
      " [2]\n",
      " [3]]\n",
      "<class 'numpy.ndarray'> <class 'numpy.ndarray'>\n"
     ]
    }
   ],
   "source": [
    "#load library\n",
    "import numpy as np\n",
    "\n",
    "#create a vector as a row\n",
    "vector_row = np.array([1,2,3])\n",
    "\n",
    "#create a vector as a column\n",
    "vector_column = np.array([[1],\n",
    "                          [2],\n",
    "                          [3]])\n",
    "\n",
    "print(vector_row)\n",
    "print(vector_column)\n",
    "\n",
    "print(type(vector_column),type(vector_row))"
   ]
  },
  {
   "cell_type": "markdown",
   "metadata": {},
   "source": [
    "# Creating a Matrix\n",
    "you need to create a matrix\n",
    "\n",
    "use numpy to create a two-dimension array"
   ]
  },
  {
   "cell_type": "code",
   "execution_count": 5,
   "metadata": {},
   "outputs": [
    {
     "name": "stdout",
     "output_type": "stream",
     "text": [
      "[[1 2]\n",
      " [3 4]\n",
      " [5 6]]\n",
      "<class 'numpy.ndarray'>\n",
      "[[1 2]\n",
      " [1 2]\n",
      " [1 2]]\n",
      "<class 'numpy.matrix'>\n"
     ]
    }
   ],
   "source": [
    "import numpy as np\n",
    "\n",
    "#create a vector as a row\n",
    "matrix = np.array([[1,2],\n",
    "                   [3,4],\n",
    "                   [5,6]])\n",
    "\n",
    "matrix2 =np.mat([[1,2],\n",
    "                 [1,2],\n",
    "                 [1,2]])\n",
    "print(matrix)\n",
    "print(type(matrix))\n",
    "print(matrix2)\n",
    "print(type(matrix2))"
   ]
  },
  {
   "cell_type": "markdown",
   "metadata": {},
   "source": [
    "# Creating a Sparse Matrix\n",
    "given data with very few nonzero values, you want to efficiently  represent it."
   ]
  },
  {
   "cell_type": "code",
   "execution_count": 9,
   "metadata": {},
   "outputs": [
    {
     "name": "stdout",
     "output_type": "stream",
     "text": [
      "  (0, 2)\t1\n",
      "  (1, 1)\t2\n",
      "  (2, 0)\t3\n"
     ]
    }
   ],
   "source": [
    "import numpy as np\n",
    "from scipy import sparse\n",
    "matrix = np.array([[0,0,1],\n",
    "                   [0,2,0],\n",
    "                   [3,0,0]])\n",
    "matrix_sparse =  sparse.csr_matrix(matrix)\n",
    "print(matrix_sparse)"
   ]
  },
  {
   "cell_type": "markdown",
   "metadata": {},
   "source": []
  },
  {
   "cell_type": "code",
   "execution_count": 19,
   "metadata": {},
   "outputs": [
    {
     "name": "stdout",
     "output_type": "stream",
     "text": [
      "CSR (compressed row)\n",
      "  (1, 1)\t1\n",
      "  (2, 0)\t3\n",
      "------------------------------\n",
      "CSC (compressed column)\n",
      "  (2, 0)\t3\n",
      "  (1, 1)\t1\n",
      "------------------------------\n",
      "lil (List of lists)\n",
      "  (1, 1)\t1\n",
      "  (2, 0)\t3\n",
      "------------------------------\n",
      "dia (dictionary of keys)\n",
      "  (2, 0)\t3\n",
      "  (1, 1)\t1\n",
      "------------------------------\n",
      "coo (COOrdinate formate matrix)\n",
      "  (1, 1)\t1\n",
      "  (2, 0)\t3\n"
     ]
    }
   ],
   "source": [
    "#create a large matrix\n",
    "matrix_large = np.array([[0,0,0,0,0,0,0,0,0,0,0,0],\n",
    "                         [0,1,0,0,0,0,0,0,0,0,0,0],\n",
    "                         [3,0,0,0,0,0,0,0,0,0,0,0]])\n",
    "matrix_large_sparse = sparse.csr_matrix(matrix_large)\n",
    "print(\"CSR (compressed row)\")\n",
    "print(matrix_large_sparse)\n",
    "\n",
    "print(\"------------------------------\")\n",
    "\n",
    "matrix_large2 = np.array([[0,0],\n",
    "                          [0,1],\n",
    "                          [3,0],\n",
    "                          [0,0],\n",
    "                          [0,0],\n",
    "                          [0,0],\n",
    "                          [0,0],\n",
    "                          [0,0],\n",
    "                          [0,0]])\n",
    "matrix_large2_sparse = sparse.csc_matrix(matrix_large2)\n",
    "print(\"CSC (compressed column)\")\n",
    "print(matrix_large2_sparse)\n",
    "\n",
    "print(\"------------------------------\")\n",
    "\n",
    "matrix_large3_sparse = sparse.lil_matrix(matrix_large)\n",
    "print(\"lil (List of lists)\")\n",
    "print(matrix_large3_sparse)\n",
    "\n",
    "print(\"------------------------------\")\n",
    "\n",
    "matrix_large4_sparse = sparse.dia_matrix(matrix_large)\n",
    "print(\"dia (dictionary of keys)\")\n",
    "print(matrix_large4_sparse)\n",
    "\n",
    "print(\"------------------------------\")\n",
    "\n",
    "matrix_large5_sparse = sparse.coo_matrix(matrix_large)\n",
    "print(\"coo (COOrdinate formate matrix)\")\n",
    "print(matrix_large5_sparse)"
   ]
  },
  {
   "cell_type": "markdown",
   "metadata": {},
   "source": [
    "# Selecting Elements\n",
    "\n",
    "you need to select one or more elements in a vector or matrix"
   ]
  },
  {
   "cell_type": "code",
   "execution_count": 21,
   "metadata": {},
   "outputs": [
    {
     "name": "stdout",
     "output_type": "stream",
     "text": [
      "3\n",
      "5\n"
     ]
    }
   ],
   "source": [
    "import numpy as np \n",
    "vector = np.array([1,2,3,4,5,6])\n",
    "matrix = np.array([[1,2,3],\n",
    "                   [4,5,6],\n",
    "                   [7,8,9]])\n",
    "#select third element of vector\n",
    "print(vector[2])\n",
    "\n",
    "#select second row, second column \n",
    "print(matrix[1,1])\n"
   ]
  },
  {
   "cell_type": "code",
   "execution_count": 70,
   "metadata": {},
   "outputs": [
    {
     "name": "stdout",
     "output_type": "stream",
     "text": [
      "[1 2 3 4 5 6]\n",
      "---------------------\n",
      "[1]\n",
      "---------------------\n",
      "[4 5 6]\n",
      "---------------------\n",
      "6\n",
      "---------------------\n",
      "[[1 2 3]\n",
      " [4 5 6]]\n",
      "---------------------\n",
      "[[2]\n",
      " [5]\n",
      " [8]\n",
      " [2]]\n"
     ]
    }
   ],
   "source": [
    "#select all elements of a vector\n",
    "print(vector[:])\n",
    "print(\"---------------------\")\n",
    "\n",
    "#select everything up to and including the third element\n",
    "print(vector[:1])\n",
    "print(\"---------------------\")\n",
    "\n",
    "#select everything after the third element\n",
    "print(vector[3:])\n",
    "print(\"---------------------\")\n",
    "\n",
    "#select the last element\n",
    "print(vector[-1])\n",
    "print(\"---------------------\")\n",
    "\n",
    "#select the first two rows and all columns of a matrix\n",
    "print(matrix[:2,])\n",
    "print(\"---------------------\")\n",
    "\n",
    "#select all rows and the second column \n",
    "print(matrix[:,1:2])\n"
   ]
  },
  {
   "cell_type": "markdown",
   "metadata": {},
   "source": [
    "# Describing a Matrix\n",
    "\n",
    "you want to describe the shape, size, and dimensions of the matrix"
   ]
  },
  {
   "cell_type": "code",
   "execution_count": 73,
   "metadata": {},
   "outputs": [
    {
     "name": "stdout",
     "output_type": "stream",
     "text": [
      "(2, 3, 3)\n",
      "18\n",
      "3\n",
      "--------------\n",
      "(1, 1, 1, 1)\n",
      "1\n",
      "4\n"
     ]
    }
   ],
   "source": [
    "import numpy as np\n",
    "matrix = np.array([ [[1,2,3],\n",
    "                     [5,6,7],\n",
    "                     [6,6,6]],\n",
    "                    [[1,2,4],\n",
    "                     [1,4,5],\n",
    "                     [2,4,5]]\n",
    "                  ])\n",
    "    \n",
    "print(matrix.shape)\n",
    "print(matrix.size)\n",
    "#返回维度 dimensions\n",
    "print(matrix.ndim)\n",
    "print(\"--------------\")\n",
    "m = np.array([[[[1]]]])\n",
    "print(m.shape)\n",
    "print(m.size)\n",
    "print(m.ndim)"
   ]
  },
  {
   "cell_type": "markdown",
   "metadata": {},
   "source": [
    "# Applying Operations to Elements\n",
    "\n",
    "you want to apply some function to multiple elements in an array"
   ]
  },
  {
   "cell_type": "code",
   "execution_count": 52,
   "metadata": {},
   "outputs": [
    {
     "name": "stdout",
     "output_type": "stream",
     "text": [
      "[[101 102 103]\n",
      " [104 105 106]\n",
      " [107 108 109]]\n",
      "--------------------------------\n",
      "[[101 102 103]\n",
      " [104 105 106]\n",
      " [107 108 109]]\n"
     ]
    }
   ],
   "source": [
    "#load library\n",
    "import numpy as np \n",
    "#create matrix\n",
    "matrix = np.array([[1,2,3],\n",
    "                   [4,5,6],\n",
    "                   [7,8,9]])\n",
    "\n",
    "#create a function that adds 100 to something \n",
    "#匿名函数lambda：是指一类无需定义标识符（函数名）的函数或子程序。\n",
    "#lambda 函数可以接收任意多个参数 (包括可选参数) 并且返回单个表达式的值。\n",
    "#def add_100(sth):\n",
    "#   return sth + 100\n",
    "add_100 = lambda sth:sth+100\n",
    "\n",
    "#Create vectorized function 将函数向量化\n",
    "vectorized_add_100 = np.vectorize(add_100)\n",
    "\n",
    "array = vectorized_add_100(matrix)\n",
    "print(array)\n",
    "\n",
    "print(\"--------------------------------\")\n",
    "\n",
    "array1=add_100(matrix) #broadcasting  --> array1 = matrix +100\n",
    "print(array1)"
   ]
  },
  {
   "cell_type": "markdown",
   "metadata": {},
   "source": [
    "# Finding the Maximum and Minimum Values\n",
    "\n",
    "you need to find the maximum or minimum value in an array"
   ]
  },
  {
   "cell_type": "code",
   "execution_count": 29,
   "metadata": {},
   "outputs": [
    {
     "name": "stdout",
     "output_type": "stream",
     "text": [
      "9\n",
      "1\n"
     ]
    }
   ],
   "source": [
    "import numpy as np \n",
    "matrix = np.array([[1,2,3],\n",
    "                   [4,5,6],\n",
    "                   [7,8,9]])\n",
    "\n",
    "print(np.max(matrix))\n",
    "\n",
    "print(np.min(matrix))"
   ]
  },
  {
   "cell_type": "code",
   "execution_count": 30,
   "metadata": {},
   "outputs": [
    {
     "name": "stdout",
     "output_type": "stream",
     "text": [
      "[7 8 9]\n",
      "[3 6 9]\n"
     ]
    }
   ],
   "source": [
    "#find maximum element in each column----0 ->列  1 ->行\n",
    "array = np.max(matrix,axis=0)\n",
    "print(array)\n",
    "#find maximum element in each row\n",
    "array = np.max(matrix,axis=1)\n",
    "print(array)"
   ]
  },
  {
   "cell_type": "markdown",
   "metadata": {},
   "source": [
    "# Calculating the Average, Variance, and Standard Deviation\n",
    "\n",
    "you want to calculate some descriptive statistics about an array"
   ]
  },
  {
   "cell_type": "code",
   "execution_count": 31,
   "metadata": {},
   "outputs": [
    {
     "name": "stdout",
     "output_type": "stream",
     "text": [
      "5.0\n",
      "6.666666666666667\n",
      "2.581988897471611\n"
     ]
    }
   ],
   "source": [
    "#load library \n",
    "import numpy as np \n",
    "#create matrix\n",
    "matrix = np.array([[1,2,3],\n",
    "                   [4,5,6],\n",
    "                   [7,8,9]])\n",
    "#return mean (平均值)\n",
    "average = np.mean(matrix)\n",
    "print(average)\n",
    "\n",
    "#return variance\n",
    "variance = np.var(matrix)\n",
    "print(variance)\n",
    "\n",
    "#return standard deviation\n",
    "standard_deviation = np.std(matrix)    \n",
    "print(standard_deviation)"
   ]
  },
  {
   "cell_type": "markdown",
   "metadata": {},
   "source": [
    "just like with the max and min, we can easily get descriptive statistics about the whole matrix or do calculations along a single axis："
   ]
  },
  {
   "cell_type": "code",
   "execution_count": 32,
   "metadata": {},
   "outputs": [
    {
     "name": "stdout",
     "output_type": "stream",
     "text": [
      "[4. 5. 6.]\n"
     ]
    }
   ],
   "source": [
    "#find the mean value in each column----0 ->列  1 ->行\n",
    "mean_eachColumn = np.mean(matrix,axis=0)\n",
    "print(mean_eachColumn)"
   ]
  },
  {
   "cell_type": "markdown",
   "metadata": {},
   "source": [
    "# Reshaping Arrays\n",
    "\n",
    "you want to change the shape (number of rows and columns) of an array without changing the elements values"
   ]
  },
  {
   "cell_type": "code",
   "execution_count": 65,
   "metadata": {},
   "outputs": [
    {
     "name": "stdout",
     "output_type": "stream",
     "text": [
      "[[ 1  2  3  4  5  6]\n",
      " [ 7  8  9  1  2 30]]\n"
     ]
    }
   ],
   "source": [
    "import numpy as np \n",
    "\n",
    "#create 4x3 array\n",
    "matrix = np.array([[1,2,3],\n",
    "                   [4,5,6],\n",
    "                   [7,8,9],\n",
    "                   [1,2,30]])\n",
    "\n",
    "#reshape matix into 2x6\n",
    "array = matrix.reshape(2,6)\n",
    "print(array)"
   ]
  },
  {
   "cell_type": "code",
   "execution_count": 66,
   "metadata": {},
   "outputs": [
    {
     "name": "stdout",
     "output_type": "stream",
     "text": [
      "[[ 1  2  3  4  5  6  7  8  9  1  2 30]]\n",
      "<class 'numpy.ndarray'>\n",
      "(1, 12)\n",
      "12\n",
      "2\n"
     ]
    }
   ],
   "source": [
    "array = matrix.reshape(1,-1)\n",
    "print(array)\n",
    "print(type(array))\n",
    "print(array.shape)\n",
    "print(array.size)\n",
    "print(array.ndim)\n"
   ]
  },
  {
   "cell_type": "code",
   "execution_count": 63,
   "metadata": {},
   "outputs": [
    {
     "name": "stdout",
     "output_type": "stream",
     "text": [
      "[ 1  2  3  4  5  6  7  8  9  1  2 30]\n",
      "<class 'numpy.ndarray'>\n",
      "(12,)\n",
      "12\n",
      "1\n"
     ]
    }
   ],
   "source": [
    "array1 = matrix.reshape(matrix.size)\n",
    "print(array1)\n",
    "print(type(array1))\n",
    "print(array1.shape)\n",
    "print(array1.size)\n",
    "print(array1.ndim)"
   ]
  },
  {
   "cell_type": "code",
   "execution_count": 67,
   "metadata": {},
   "outputs": [
    {
     "name": "stdout",
     "output_type": "stream",
     "text": [
      "[[ 1]\n",
      " [ 2]\n",
      " [ 3]\n",
      " [ 4]\n",
      " [ 5]\n",
      " [ 6]\n",
      " [ 7]\n",
      " [ 8]\n",
      " [ 9]\n",
      " [ 1]\n",
      " [ 2]\n",
      " [30]]\n",
      "<class 'numpy.ndarray'>\n",
      "(12, 1)\n",
      "12\n",
      "2\n"
     ]
    }
   ],
   "source": [
    "array = matrix.reshape(-1,1)\n",
    "print(array)\n",
    "print(type(array))\n",
    "print(array.shape)\n",
    "print(array.size)\n",
    "print(array.ndim)"
   ]
  },
  {
   "cell_type": "markdown",
   "metadata": {},
   "source": [
    "# Transposing a Vector or Matrix\n",
    "\n",
    "you need transposing a vector or matrix"
   ]
  },
  {
   "cell_type": "code",
   "execution_count": 46,
   "metadata": {},
   "outputs": [
    {
     "name": "stdout",
     "output_type": "stream",
     "text": [
      "[[1 4 7]\n",
      " [2 5 8]\n",
      " [3 6 9]]\n"
     ]
    }
   ],
   "source": [
    "import numpy as np\n",
    "matrix = np.array([[1,2,3],\n",
    "                   [4,5,6],\n",
    "                   [7,8,9]])\n",
    "\n",
    "#transposing matrix\n",
    "array = matrix.T\n",
    "print(array)"
   ]
  },
  {
   "cell_type": "code",
   "execution_count": 47,
   "metadata": {},
   "outputs": [
    {
     "name": "stdout",
     "output_type": "stream",
     "text": [
      "[1 2 3 4 5 6]\n"
     ]
    }
   ],
   "source": [
    "array = np.array([1,2,3,4,5,6]).T\n",
    "print(array)"
   ]
  },
  {
   "cell_type": "markdown",
   "metadata": {},
   "source": [
    "from above, we can see that a vector can not be transposed, because it is just a collection of values"
   ]
  },
  {
   "cell_type": "code",
   "execution_count": 49,
   "metadata": {},
   "outputs": [
    {
     "name": "stdout",
     "output_type": "stream",
     "text": [
      "[[1]\n",
      " [2]\n",
      " [3]\n",
      " [4]\n",
      " [5]\n",
      " [6]]\n"
     ]
    }
   ],
   "source": [
    "array = np.array([[1,2,3,4,5,6]]).T\n",
    "print(array)"
   ]
  },
  {
   "cell_type": "markdown",
   "metadata": {},
   "source": [
    "# Flattening a Matrix\n",
    "you need to transform a matrix into a one-dimentional array"
   ]
  },
  {
   "cell_type": "code",
   "execution_count": 50,
   "metadata": {},
   "outputs": [
    {
     "name": "stdout",
     "output_type": "stream",
     "text": [
      "[1 2 3 4 5 6 7 8 9]\n"
     ]
    }
   ],
   "source": [
    "import numpy as np \n",
    "matrix = np.array([[1,2,3],\n",
    "                   [4,5,6],\n",
    "                   [7,8,9]])\n",
    "array = matrix.flatten()#-->matrix.reshape(1,-1)\n",
    "print(array)"
   ]
  },
  {
   "cell_type": "markdown",
   "metadata": {},
   "source": [
    "# Finding the Rank(秩) of a Matrix"
   ]
  },
  {
   "cell_type": "code",
   "execution_count": 51,
   "metadata": {},
   "outputs": [
    {
     "name": "stdout",
     "output_type": "stream",
     "text": [
      "3\n"
     ]
    }
   ],
   "source": [
    "import numpy as np\n",
    "matrix = np.array([[1,2,3],\n",
    "                   [3,4,5],\n",
    "                   [6,7,15]])\n",
    "\n",
    "matrix_rank = np.linalg.matrix_rank(matrix)\n",
    "print(matrix_rank)"
   ]
  },
  {
   "cell_type": "markdown",
   "metadata": {},
   "source": [
    "# Calculating the Determinant(行列式)"
   ]
  },
  {
   "cell_type": "code",
   "execution_count": 52,
   "metadata": {},
   "outputs": [
    {
     "name": "stdout",
     "output_type": "stream",
     "text": [
      "-14.000000000000004\n"
     ]
    }
   ],
   "source": [
    "matrix_determinant = np.linalg.det(matrix)\n",
    "print(matrix_determinant)"
   ]
  },
  {
   "cell_type": "markdown",
   "metadata": {},
   "source": [
    "# Getting the Diagonal(对角线) of a Matrix"
   ]
  },
  {
   "cell_type": "code",
   "execution_count": 53,
   "metadata": {},
   "outputs": [
    {
     "name": "stdout",
     "output_type": "stream",
     "text": [
      "[ 1  4 15]\n"
     ]
    }
   ],
   "source": [
    "matrix_diagonal = matrix.diagonal()\n",
    "print(matrix_diagonal)"
   ]
  },
  {
   "cell_type": "code",
   "execution_count": 54,
   "metadata": {},
   "outputs": [
    {
     "name": "stdout",
     "output_type": "stream",
     "text": [
      "[2 5]\n",
      "[3 7]\n"
     ]
    }
   ],
   "source": [
    "#return diagonal one above the main diagonal\n",
    "above_diagonal = matrix.diagonal(offset = 1)\n",
    "print(above_diagonal)\n",
    "\n",
    "#return diagonal one below the main diagonal\n",
    "below_diagonal = matrix.diagonal(offset = -1)\n",
    "print(below_diagonal)"
   ]
  },
  {
   "cell_type": "markdown",
   "metadata": {},
   "source": [
    "# Calculating the Trace of Matrix\n",
    "矩阵的迹 = 对角线值相加"
   ]
  },
  {
   "cell_type": "code",
   "execution_count": 55,
   "metadata": {},
   "outputs": [
    {
     "name": "stdout",
     "output_type": "stream",
     "text": [
      "20\n"
     ]
    }
   ],
   "source": [
    "matrix_trace = matrix.trace()\n",
    "print(matrix_trace)"
   ]
  },
  {
   "cell_type": "code",
   "execution_count": 56,
   "metadata": {},
   "outputs": [
    {
     "data": {
      "text/plain": [
       "20"
      ]
     },
     "execution_count": 56,
     "metadata": {},
     "output_type": "execute_result"
    }
   ],
   "source": [
    "#return diagonal and sum elements\n",
    "matix_trace1 = sum(matrix.diagonal())\n",
    "matix_trace1"
   ]
  },
  {
   "cell_type": "markdown",
   "metadata": {},
   "source": [
    "# Finding Eigenvalues and Eigenvectors\n",
    "特征值和特征向量"
   ]
  },
  {
   "cell_type": "code",
   "execution_count": 58,
   "metadata": {},
   "outputs": [
    {
     "name": "stdout",
     "output_type": "stream",
     "text": [
      "[13.55075847  0.74003145 -3.29078992]\n",
      "[[-0.17622017 -0.96677403 -0.53373322]\n",
      " [-0.435951    0.2053623  -0.64324848]\n",
      " [-0.88254925  0.15223105  0.54896288]]\n"
     ]
    }
   ],
   "source": [
    "import numpy as np \n",
    "matrix = np.array([[1,-1,3],\n",
    "                   [1,1,6],\n",
    "                   [3,8,9]])\n",
    "\n",
    "eigenValues, eigenVectors = np.linalg.eig(matrix)\n",
    "print(eigenValues)\n",
    "print(eigenVectors)"
   ]
  },
  {
   "cell_type": "markdown",
   "metadata": {},
   "source": [
    "# Calculating Dot Products(点积)"
   ]
  },
  {
   "cell_type": "code",
   "execution_count": 63,
   "metadata": {},
   "outputs": [
    {
     "data": {
      "text/plain": [
       "32"
      ]
     },
     "execution_count": 63,
     "metadata": {},
     "output_type": "execute_result"
    }
   ],
   "source": [
    "vector_a = np.array([1,2,3])\n",
    "vector_b = np.array([4,5,6])\n",
    "\n",
    "dot_product = np.dot(vector_a,vector_b)\n",
    "dot_product"
   ]
  },
  {
   "cell_type": "code",
   "execution_count": 64,
   "metadata": {},
   "outputs": [
    {
     "data": {
      "text/plain": [
       "32"
      ]
     },
     "execution_count": 64,
     "metadata": {},
     "output_type": "execute_result"
    }
   ],
   "source": [
    "vector_b@vector_a  #Python 3.5+"
   ]
  },
  {
   "cell_type": "markdown",
   "metadata": {},
   "source": [
    "# Adding and subtracting Matrix"
   ]
  },
  {
   "cell_type": "code",
   "execution_count": 65,
   "metadata": {},
   "outputs": [],
   "source": [
    "import numpy as np \n",
    "matrix_a = np.array([[1,1,1],\n",
    "                     [1,2,2],\n",
    "                     [1,1,1]])\n",
    "matrix_b = np.array([[1,3,1],\n",
    "                     [1,3,2],\n",
    "                     [1,3,1]])"
   ]
  },
  {
   "cell_type": "code",
   "execution_count": 66,
   "metadata": {},
   "outputs": [
    {
     "data": {
      "text/plain": [
       "array([[2, 4, 2],\n",
       "       [2, 5, 4],\n",
       "       [2, 4, 2]])"
      ]
     },
     "execution_count": 66,
     "metadata": {},
     "output_type": "execute_result"
    }
   ],
   "source": [
    "np.add(matrix_a,matrix_b)"
   ]
  },
  {
   "cell_type": "code",
   "execution_count": 67,
   "metadata": {},
   "outputs": [
    {
     "data": {
      "text/plain": [
       "array([[ 0, -2,  0],\n",
       "       [ 0, -1,  0],\n",
       "       [ 0, -2,  0]])"
      ]
     },
     "execution_count": 67,
     "metadata": {},
     "output_type": "execute_result"
    }
   ],
   "source": [
    "np.subtract(matrix_a,matrix_b)"
   ]
  },
  {
   "cell_type": "code",
   "execution_count": 68,
   "metadata": {},
   "outputs": [
    {
     "data": {
      "text/plain": [
       "array([[2, 4, 2],\n",
       "       [2, 5, 4],\n",
       "       [2, 4, 2]])"
      ]
     },
     "execution_count": 68,
     "metadata": {},
     "output_type": "execute_result"
    }
   ],
   "source": [
    "matrix_a+matrix_b"
   ]
  },
  {
   "cell_type": "code",
   "execution_count": 69,
   "metadata": {},
   "outputs": [
    {
     "data": {
      "text/plain": [
       "array([[ 0, -2,  0],\n",
       "       [ 0, -1,  0],\n",
       "       [ 0, -2,  0]])"
      ]
     },
     "execution_count": 69,
     "metadata": {},
     "output_type": "execute_result"
    }
   ],
   "source": [
    "matrix_a-matrix_b"
   ]
  },
  {
   "cell_type": "markdown",
   "metadata": {},
   "source": [
    "# Multiplying Matrixs"
   ]
  },
  {
   "cell_type": "code",
   "execution_count": 70,
   "metadata": {},
   "outputs": [],
   "source": [
    "import numpy as np\n",
    "\n",
    "matrix_a = np.array([[1,1],\n",
    "                     [1,2]])\n",
    "matrix_b = np.array([[1,3],\n",
    "                     [1,2]])"
   ]
  },
  {
   "cell_type": "code",
   "execution_count": 71,
   "metadata": {},
   "outputs": [
    {
     "data": {
      "text/plain": [
       "array([[2, 5],\n",
       "       [3, 7]])"
      ]
     },
     "execution_count": 71,
     "metadata": {},
     "output_type": "execute_result"
    }
   ],
   "source": [
    "np.dot(matrix_a,matrix_b)"
   ]
  },
  {
   "cell_type": "code",
   "execution_count": 72,
   "metadata": {},
   "outputs": [
    {
     "data": {
      "text/plain": [
       "array([[2, 5],\n",
       "       [3, 7]])"
      ]
     },
     "execution_count": 72,
     "metadata": {},
     "output_type": "execute_result"
    }
   ],
   "source": [
    "matrix_a @ matrix_b"
   ]
  },
  {
   "cell_type": "code",
   "execution_count": 73,
   "metadata": {},
   "outputs": [
    {
     "data": {
      "text/plain": [
       "array([[1, 3],\n",
       "       [1, 4]])"
      ]
     },
     "execution_count": 73,
     "metadata": {},
     "output_type": "execute_result"
    }
   ],
   "source": [
    "#multiply two matrices element-wise\n",
    "matrix_a * matrix_b"
   ]
  },
  {
   "cell_type": "markdown",
   "metadata": {},
   "source": [
    "# Inverting a Matrix(求逆矩阵)"
   ]
  },
  {
   "cell_type": "code",
   "execution_count": 74,
   "metadata": {},
   "outputs": [
    {
     "data": {
      "text/plain": [
       "array([[-1.66666667,  1.33333333],\n",
       "       [ 0.66666667, -0.33333333]])"
      ]
     },
     "execution_count": 74,
     "metadata": {},
     "output_type": "execute_result"
    }
   ],
   "source": [
    "import numpy as np \n",
    "matrix = np.array([[1,4],\n",
    "                   [2,5]])\n",
    "np.linalg.inv(matrix)\n"
   ]
  },
  {
   "cell_type": "code",
   "execution_count": 75,
   "metadata": {},
   "outputs": [
    {
     "data": {
      "text/plain": [
       "array([[1., 0.],\n",
       "       [0., 1.]])"
      ]
     },
     "execution_count": 75,
     "metadata": {},
     "output_type": "execute_result"
    }
   ],
   "source": [
    "#AA^-1=I\n",
    "matrix @ np.linalg.inv(matrix)"
   ]
  },
  {
   "cell_type": "markdown",
   "metadata": {},
   "source": [
    "# Generating Random Values"
   ]
  },
  {
   "cell_type": "code",
   "execution_count": 69,
   "metadata": {},
   "outputs": [
    {
     "name": "stdout",
     "output_type": "stream",
     "text": [
      "[0.01947524]\n",
      "[0.46321853]\n",
      "[0.77132064]\n",
      "[0.77132064]\n"
     ]
    }
   ],
   "source": [
    "import numpy as np \n",
    "\n",
    "print(np.random.random(1))\n",
    "print(np.random.random(1))\n",
    "\n",
    "#seed 种子，设置种子之后在相同的种子下面生成的随机数一样，并且多次生成都是同一个数\n",
    "#set seed\n",
    "np.random.seed(10)\n",
    "print(np.random.random(1))\n",
    "\n",
    "#set seed\n",
    "np.random.seed(10)\n",
    "print(np.random.random(1))"
   ]
  },
  {
   "cell_type": "code",
   "execution_count": 86,
   "metadata": {},
   "outputs": [
    {
     "data": {
      "text/plain": [
       "array([4, 0, 1])"
      ]
     },
     "execution_count": 86,
     "metadata": {},
     "output_type": "execute_result"
    }
   ],
   "source": [
    "#Generate three random intergers between 1 and 10\n",
    "np.random.randint(0,11,3)"
   ]
  },
  {
   "cell_type": "code",
   "execution_count": 88,
   "metadata": {},
   "outputs": [
    {
     "data": {
      "text/plain": [
       "array([-0.60555494, -0.65099088,  0.51256776])"
      ]
     },
     "execution_count": 88,
     "metadata": {},
     "output_type": "execute_result"
    }
   ],
   "source": [
    "#Generate three numbers from a normal distribution(正态分布) with mean 0.0\n",
    "#and standard deviation(标准差) of 1.0\n",
    "np.random.normal(0.0,1.0,3)"
   ]
  },
  {
   "cell_type": "code",
   "execution_count": 89,
   "metadata": {},
   "outputs": [
    {
     "data": {
      "text/plain": [
       "array([-2.33407641,  0.77851428,  3.01828425])"
      ]
     },
     "execution_count": 89,
     "metadata": {},
     "output_type": "execute_result"
    }
   ],
   "source": [
    "#Draw three numbers from a logistic distribution with mean 0.0 and scale of 1.0\n",
    "np.random.logistic(0.0,1.0,3)"
   ]
  },
  {
   "cell_type": "code",
   "execution_count": 74,
   "metadata": {},
   "outputs": [
    {
     "data": {
      "text/plain": [
       "array([1.02075195, 1.63364823, 1.74880388])"
      ]
     },
     "execution_count": 74,
     "metadata": {},
     "output_type": "execute_result"
    }
   ],
   "source": [
    "#Draw three number greater than or equal to 1 and less than 2(大于等于1，小于2)\n",
    "np.random.uniform(1.0,2.0,3)"
   ]
  }
 ],
 "metadata": {
  "kernelspec": {
   "display_name": "Python 3",
   "language": "python",
   "name": "python3"
  },
  "language_info": {
   "codemirror_mode": {
    "name": "ipython",
    "version": 3
   },
   "file_extension": ".py",
   "mimetype": "text/x-python",
   "name": "python",
   "nbconvert_exporter": "python",
   "pygments_lexer": "ipython3",
   "version": "3.7.3"
  }
 },
 "nbformat": 4,
 "nbformat_minor": 4
}
